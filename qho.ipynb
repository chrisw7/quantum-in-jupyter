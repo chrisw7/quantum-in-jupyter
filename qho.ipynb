{
 "cells": [
  {
   "cell_type": "markdown",
   "metadata": {
    "collapsed": true
   },
   "source": [
    "<span style=\"color:gray;\">Quantum Mechanics Review  + Practice w/Python  |  Chris Williams |   Jan 25, 2017 </span>\n",
    "# Quantum Mechanics in Jupyter\n",
    "---\n",
    "### 1 The Quantum Harmonic Oscillator\n",
    "\n",
    "Applying the Hamiltonian Operator on a given wavefuntion, $\\Psi$ results in the Schrodinger Equation,\n",
    "\n",
    "$$ i\\hbar  {\\frac {\\partial }{\\partial t}}\\Psi (\\mathbf {r} ,t)={\\hat {H}}\\Psi (\\mathbf {r} ,t) $$\n",
    "\n",
    "for which solutions (to the time-independent Schrodinger eqn) exist for certan 'eigenenergies'. To visualize these eigenenergies and their corresponding eigenfunctions for a quantum harmonic oscillator, we must first construct the system in which the quantum mechanical particle will exist.\n",
    "\n",
    "\n",
    "### Constructing a parabolic potential\n",
    "To start, import required libraries and define the requred constants used to define potential energy of the system."
   ]
  },
  {
   "cell_type": "code",
   "execution_count": 2,
   "metadata": {
    "collapsed": true
   },
   "outputs": [],
   "source": [
    "%matplotlib inline\n",
    "\n",
    "import matplotlib.pyplot as plt\n",
    "import matplotlib.mlab as mlab\n",
    "import numpy as np\n",
    "import plotly.plotly as py\n",
    "\n",
    "from ipywidgets import *\n",
    "from matplotlib import animation, rc\n",
    "from IPython.display import HTML"
   ]
  },
  {
   "cell_type": "code",
   "execution_count": null,
   "metadata": {
    "collapsed": true
   },
   "outputs": [],
   "source": [
    "hbar = 1.05e-14      #reduced planks constant in units of Å^2*kg/s\n",
    "hbarSI = 1.055e-34   #\"---------------------\" in units of m^2*kg/s\n",
    "m = 1.6266e-27       #mass of particle in units of kg\n",
    "eV = 1.602e-19       #1 electron volt in units of J\n",
    "\n",
    "#Define QHO potential parameters\n",
    "omega = 5.6339e14\n",
    "eta = 2\n",
    "x_0 = np.sqrt(hbar/(m*omega))\n",
    "a = 4*x_0 #width of potential in Å\n",
    "\n",
    "# of finite difference steps\n",
    "N = 100\n",
    "\n",
    "#Create potential\n",
    "x = np.linspace(-a,a,N)\n",
    "V = 0.5*omega**2*m*np.power(abs(x),eta)"
   ]
  },
  {
   "cell_type": "markdown",
   "metadata": {},
   "source": [
    "### Discretizing the 1D Hamiltonian\n",
    "In order to solve the Schrodinger equation analytically we will discretize the Hamiltonian operator using a fintite-difference approximation. In matrix form, the discretized Hamiltonian can be written in the form\n",
    "\n",
    "$$\n",
    "{\\mathbf  {\\hat{H}}}={\\frac  {\\hbar ^{2}}{2m}}{\\frac  {d^{2}}{dx^{2}}}+V(x)={\\begin{pmatrix}\\ldots &-t&0&0&0\\\\-t&V_{{-1}}+2t&-t&0&0\\\\0&-t&V_{0}+2t&-t&0\\\\0&0&-t&V_{1}+2t&-t\\\\0&0&0&-t&\\ldots \\\\\\end{pmatrix}}\n",
    "$$\n",
    "\n",
    "where $V(x)$ is the potential energy of the system and $t\\equiv {\\frac  {\\hbar ^{2}}{2ma^{2}}}$. Because the Hamiltonian is the operator associated with the total energy of the system, applying the Hamiltonian to a wavefunction creates an eigenvalue problem that we can solve to determine the eigenenergies & eigenfunctions associated with the system we've constructed."
   ]
  },
  {
   "cell_type": "code",
   "execution_count": null,
   "metadata": {},
   "outputs": [],
   "source": [
    "dx = 2*a/N\n",
    "\n",
    "#Create tridiagonal Laplacian for Hamiltonian (TODO: use diag insead?)\n",
    "def hamiltonian2(N, V, m):\n",
    "    \n",
    "    U = np.zeros((N,N))\n",
    "    \n",
    "    \n",
    "    for i in range(0,N):\n",
    "        U[i,i]= -2\n",
    "        if i > 0:\n",
    "            U[i, i-1] = 1\n",
    "        if i < N-1:\n",
    "            U[i,i+1] = 1\n",
    "\n",
    "    #Compute Hamiltonian and solve eigenvalue problem\n",
    "    return -(hbar**2/(2*m*eV))*U/dx**2 + np.diag(V)\n",
    "\n",
    "E,v = np.linalg.eigh(hamiltonian(N, V, m))"
   ]
  },
  {
   "cell_type": "markdown",
   "metadata": {},
   "source": [
    "With the eigenvalue problem solved we can visualize the eigenfunctions of the quantum harmonic oscillator we've constructed for a few of the low-energy eigenstates. The QHO is a good approximation of simple chemical bonds (see original pdf). Note that the absolute magnitudes of the position/energy are not meaningfully normalized."
   ]
  },
  {
   "cell_type": "code",
   "execution_count": null,
   "metadata": {},
   "outputs": [],
   "source": [
    "#Plot QHO potential\n",
    "plt.plot(x,V)\n",
    "\n",
    "plt.ylim([0,1.25*np.max(v[:,2]/np.sqrt(dx)+E[2])])\n",
    "plt.xlim([-.3,.3])\n",
    "plt.title('QHO Eigenfunctions')\n",
    "plt.xlabel('Position [Å]')\n",
    "plt.ylabel('Energy')\n",
    "\n",
    "#Overlay eigenfunctions\n",
    "for i in range(3):\n",
    "    plt.axhline(y=E[i],color='k',ls=\":\")\n",
    "    plt.plot(x,-v[:,i]/np.sqrt(dx)+E[i])\n",
    "\n",
    "plt.show()"
   ]
  },
  {
   "cell_type": "markdown",
   "metadata": {
    "collapsed": true
   },
   "source": [
    "### Visualizing a time-dependent wavepacket\n",
    "\n",
    "Using our solutions to the eigenvalue problem presented by the Schrodinger equation we can create a wavepacket in the center of the potential by weighting the eigenfunctions with a Gaussian distribution and re-introducing the time-dependent term. \n",
    "\n",
    "Whereas the momentum of a single wave can be known with certainty (consequently implying that its position in space is uncertain and that its wavefunction is evenly distributed throughout space), the superposition of a number of waves plane waves results in a distribution of momentums and a wave 'packet' whose position is increasingly localized in space. Here we use a normal/Gaussian distrution of waves to create a 'Gaussian' wavepacket. The general form of a wavepacket (from [Wikipedia](https://www.wikipedia.com/en/Wave_packet)) can be expressed as:\n",
    "\n",
    "$$\n",
    "u(x,t) = \\frac{1}{\\sqrt{2\\pi}} \\int^{\\infty}_{-\\infty} A(k) ~ e^{i(kx-\\omega(k)t)}dk\n",
    "$$"
   ]
  },
  {
   "cell_type": "code",
   "execution_count": null,
   "metadata": {
    "collapsed": true
   },
   "outputs": [],
   "source": [
    "def normalize(vec):\n",
    "    return vec/np.linalg.norm(vec)\n",
    "\n",
    "#Project normalized Gaussian onto eigenfunction\n",
    "def createPacket(mu, sig, e_functions):\n",
    "    return normalize(mlab.normpdf(np.linspace(0,1,N),mu,sig)).dot(v)\n",
    "\n",
    "#Create wavepacket centered in well\n",
    "mu = 0.5\n",
    "sig = 0.05\n",
    "wavePacket = createPacket(mu,sig,v)"
   ]
  },
  {
   "cell_type": "code",
   "execution_count": null,
   "metadata": {
    "collapsed": true
   },
   "outputs": [],
   "source": [
    "%%capture\n",
    "\n",
    "steps = 100\n",
    "t = np.linspace(0,.49e-39,steps)\n",
    "\n",
    "timePacket = np.zeros((steps,N))\n",
    "\n",
    "#Introduce time dependency and project new amplitudes onto eigenfunctions\n",
    "for i in range(steps):\n",
    "    timeDep = np.exp(-1j*E*t[i]/hbarSI)\n",
    "    b1 = np.diag(wavePacket*np.real(timeDep))\n",
    "    c1 = normalize(np.sum(v.dot(b1),axis=1).T)\n",
    "    timePacket[i,:] = np.conj(c1)*c1 #square wavefuntion to obtain probabilities\n",
    "\n",
    "#Static plot of time evolution of probability densities \n",
    "def pltProb(i):\n",
    "    #Generate Plot    \n",
    "    fig, ax1 = plt.subplots()\n",
    "    plt.title('Probability Distribution of Wavepacket Through Time')\n",
    "    plt.xlabel('x [Å]')\n",
    "    plt.ylabel('$\\mathregular{|\\Psi|^2}$')\n",
    "    ax2 = ax1.twinx()\n",
    "    \n",
    "    #Handle array inputs\n",
    "    if np.size(i) == 1:\n",
    "        ax1.plot(x,np.real(timePacket[i-1,:].T))\n",
    "    else:\n",
    "        ax1.plot(x,np.real(timePacket[i[0]:i[-1]+1,:].T))\n",
    "        ax1.legend(['$\\mathregular{t_' + str(i) + '}$' for i in range(steps)])\n",
    "    \n",
    "    #Overlay parabolic potential\n",
    "    ax2.plot(x,V,'g--')\n",
    "    ax2.legend('V(x)', loc='best')\n",
    "    ax1.set_ylim([0,1.25*np.max(timePacket[0,:])])\n",
    "    ax2.yaxis.set_visible(False)\n",
    "    plt.show\n",
    "    \n",
    "\n",
    "fig, ax = plt.subplots();\n",
    "\n",
    "ax2 = ax.twinx();\n",
    "ax2.yaxis.set_visible(False)\n",
    "\n",
    "ax.set_xlim(-0.5,0.5)\n",
    "ax.set_ylim(0, 0.15)\n",
    "\n",
    "line, = ax.plot([],[], lw=2);\n",
    "plt.title('Probability Distribution of Wavepacket Through Time')\n",
    "\n",
    "def init():\n",
    "    ax.legend(['$\\Psi^2(x)$'], loc=4)\n",
    "    ax2.legend(['V(x)'],       loc=3)\n",
    "    ax2.plot(x,V,'k--')\n",
    "\n",
    "    line.set_data([],[])\n",
    "    return line,\n",
    "\n",
    "def animate(i):\n",
    "    x_out = x;\n",
    "    y_out = np.real(timePacket[i-1,:].T)\n",
    "    line.set_data(x_out, y_out)\n",
    "    return line,\n",
    "\n",
    "anim = animation.FuncAnimation(fig, animate, init_func=init, frames=steps, interval=50, blit=True)\n",
    "# pltProb(range(steps))\n",
    "#Uncomment to enable interactivity:\n",
    "#interact(pltProb,i=IntSlider(min = 1,max = steps, value = 1));"
   ]
  },
  {
   "cell_type": "code",
   "execution_count": null,
   "metadata": {},
   "outputs": [],
   "source": [
    "HTML(anim.to_html5_video())"
   ]
  },
  {
   "cell_type": "markdown",
   "metadata": {},
   "source": [
    "As expected, the wavefunction oscillates (with a period on the order of 10e-34 seconds) while remaining centered in the harmonic potential. Because the wavefunction remains centered, the expectation of the position and momentum of the particle will be zero.\n",
    "\n",
    "---\n",
    "### References\n",
    "1. [Discretization of 1D Hamiltonian](https://wiki.physics.udel.edu/phys824/Discretization_of_1D_Hamiltonian)\n",
    "2. [Schrodinger Equation](https://www.wikipedia.com/en/Schr%C3%B6dinger_equation)\n",
    "3. [Eigenvalues and Eigenfunctions](http://hyperphysics.phy-astr.gsu.edu/hbase/quantum/eigen.html)\n",
    "4. [A Crash Course in Python for Scientists](http://nbviewer.jupyter.org/gist/rpmuller/5920182)\n",
    "\n",
    "\n",
    "<span style=\"color:gray;\">Based on projects assigned in University of Waterloo NanoEng Program's Quantum Mechanics course (NE 232 - Instructor/Year: David Corey, 2015). Created as an introduction to using  Python/Jupyter notebooks</span>\n",
    "\n",
    "\n"
   ]
  }
 ],
 "metadata": {
  "anaconda-cloud": {},
  "kernelspec": {
   "display_name": "Python [default]",
   "language": "python",
   "name": "python3"
  },
  "language_info": {
   "codemirror_mode": {
    "name": "ipython",
    "version": 3
   },
   "file_extension": ".py",
   "mimetype": "text/x-python",
   "name": "python",
   "nbconvert_exporter": "python",
   "pygments_lexer": "ipython3",
   "version": "3.5.3"
  }
 },
 "nbformat": 4,
 "nbformat_minor": 1
}
